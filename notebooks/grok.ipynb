{
 "cells": [
  {
   "cell_type": "markdown",
   "id": "pPxnovMTO-hu",
   "metadata": {
    "id": "pPxnovMTO-hu"
   },
   "source": [
    "В этом ноутбуке кортежи мнений предсказываются с помощью модели Grok-2 (grok-beta).\n",
    "\n",
    "Здесь используется OpenAI API, также необходим XAI API key.\n",
    "\n",
    "Рекомендуется запускать из Google Colab, а не локально, во избежание геополитических ограничений."
   ]
  },
  {
   "cell_type": "markdown",
   "id": "dce2a602",
   "metadata": {
    "id": "dce2a602"
   },
   "source": [
    "### Проверка ###"
   ]
  },
  {
   "cell_type": "code",
   "execution_count": 3,
   "id": "e8dd858e",
   "metadata": {
    "colab": {
     "base_uri": "https://localhost:8080/"
    },
    "id": "e8dd858e",
    "outputId": "a06d68f0-6ef4-4bce-fcc7-654931f43dfb"
   },
   "outputs": [
    {
     "name": "stdout",
     "output_type": "stream",
     "text": [
      "Нет, меня создала компания xAI. Я Грок, приятно познакомиться! Илон Маск - это крутой парень, но у меня другие создатели.\n"
     ]
    }
   ],
   "source": [
    "import requests\n",
    "import ast\n",
    "import json\n",
    "import os\n",
    "import itertools\n",
    "from tqdm import tqdm\n",
    "import pandas as pd\n",
    "from collections import defaultdict\n",
    "import random\n",
    "from random import choices\n",
    "import time\n",
    "\n",
    "from openai import OpenAI\n",
    "\n",
    "XAI_API_KEY = \"YOUR_API_KEY\"\n",
    "model = \"grok-beta\"\n",
    "url = \"https://api.x.ai/v1\"\n",
    "\n",
    "SEED = 42\n",
    "random.seed(SEED)\n",
    "\n",
    "client = OpenAI(\n",
    "    api_key=XAI_API_KEY,\n",
    "    base_url=url,\n",
    ")\n",
    "\n",
    "params = {'temperature': 0.2,\n",
    "         'top_p': 0.9,\n",
    "         'max_tokens': 512,\n",
    "         'seed': SEED}\n",
    "\n",
    "completion = client.chat.completions.create(\n",
    "    model=model,\n",
    "    **params,\n",
    "    messages=[\n",
    "        {\"role\": \"system\", \"content\": \"Ответь на вопрос.\"},\n",
    "        {\"role\": \"user\", \"content\": \"Тебя сделал Илон Маск?\"},\n",
    "    ],\n",
    ")\n",
    "\n",
    "print(completion.choices[0].message.content)"
   ]
  },
  {
   "cell_type": "markdown",
   "id": "4ce8b011",
   "metadata": {
    "id": "4ce8b011"
   },
   "source": [
    "### Подготовка данных ###"
   ]
  },
  {
   "cell_type": "code",
   "execution_count": 4,
   "id": "63d92232",
   "metadata": {
    "id": "63d92232"
   },
   "outputs": [],
   "source": [
    "import requests, zipfile, io\n",
    "\n",
    "url = 'https://raw.githubusercontent.com/rossyaykin/RuOpinionNE/refs/heads/main/src/src.zip'\n",
    "r = requests.get(url)\n",
    "z = zipfile.ZipFile(io.BytesIO(r.content))\n",
    "z.extractall('')\n",
    "\n",
    "from src.utils import parse_data, to_jsonl, form_prompt, dict2tuple, extract_tuple, str2list, save_jsonl, df2structure"
   ]
  },
  {
   "cell_type": "code",
   "execution_count": 5,
   "id": "1C40oSXDMO0P",
   "metadata": {
    "colab": {
     "base_uri": "https://localhost:8080/"
    },
    "id": "1C40oSXDMO0P",
    "outputId": "80f40cff-52d9-426b-dfcb-d8a159dc0bc6"
   },
   "outputs": [
    {
     "name": "stdout",
     "output_type": "stream",
     "text": [
      "--2024-11-27 01:16:31--  https://raw.githubusercontent.com/dialogue-evaluation/RuOpinionNE-2024/refs/heads/master/train.jsonl\n",
      "Resolving raw.githubusercontent.com (raw.githubusercontent.com)... 185.199.110.133, 185.199.111.133, 185.199.108.133, ...\n",
      "Connecting to raw.githubusercontent.com (raw.githubusercontent.com)|185.199.110.133|:443... connected.\n",
      "HTTP request sent, awaiting response... 200 OK\n",
      "Length: 1291979 (1.2M) [text/plain]\n",
      "Saving to: ‘train.jsonl’\n",
      "\n",
      "train.jsonl         100%[===================>]   1.23M  --.-KB/s    in 0.05s   \n",
      "\n",
      "2024-11-27 01:16:31 (23.2 MB/s) - ‘train.jsonl’ saved [1291979/1291979]\n",
      "\n"
     ]
    }
   ],
   "source": [
    "!wget https://raw.githubusercontent.com/dialogue-evaluation/RuOpinionNE-2024/refs/heads/master/train.jsonl"
   ]
  },
  {
   "cell_type": "code",
   "execution_count": 6,
   "id": "tiaCk1G5MaS8",
   "metadata": {
    "colab": {
     "base_uri": "https://localhost:8080/"
    },
    "id": "tiaCk1G5MaS8",
    "outputId": "bf95603e-bb07-47da-8b5a-80e0388e6d1a"
   },
   "outputs": [
    {
     "name": "stdout",
     "output_type": "stream",
     "text": [
      "--2024-11-27 01:17:27--  https://raw.githubusercontent.com/dialogue-evaluation/RuOpinionNE-2024/refs/heads/master/validation.jsonl\n",
      "Resolving raw.githubusercontent.com (raw.githubusercontent.com)... 185.199.111.133, 185.199.110.133, 185.199.108.133, ...\n",
      "Connecting to raw.githubusercontent.com (raw.githubusercontent.com)|185.199.111.133|:443... connected.\n",
      "HTTP request sent, awaiting response... 200 OK\n",
      "Length: 368114 (359K) [text/plain]\n",
      "Saving to: ‘validation.jsonl’\n",
      "\n",
      "\r",
      "validation.jsonl      0%[                    ]       0  --.-KB/s               \r",
      "validation.jsonl    100%[===================>] 359.49K  --.-KB/s    in 0.03s   \n",
      "\n",
      "2024-11-27 01:17:28 (12.6 MB/s) - ‘validation.jsonl’ saved [368114/368114]\n",
      "\n"
     ]
    }
   ],
   "source": [
    "!wget https://raw.githubusercontent.com/dialogue-evaluation/RuOpinionNE-2024/refs/heads/master/validation.jsonl"
   ]
  },
  {
   "cell_type": "code",
   "execution_count": 7,
   "id": "V_jDCitpInMN",
   "metadata": {
    "colab": {
     "base_uri": "https://localhost:8080/"
    },
    "id": "V_jDCitpInMN",
    "outputId": "a1e20e5c-1504-4da3-f3ae-b0b6a3808463"
   },
   "outputs": [
    {
     "name": "stdout",
     "output_type": "stream",
     "text": [
      "2556 1316\n"
     ]
    }
   ],
   "source": [
    "train = parse_data('/content/train.jsonl')\n",
    "val = parse_data('/content/validation.jsonl')\n",
    "print(len(train), len(val))"
   ]
  },
  {
   "cell_type": "code",
   "execution_count": null,
   "id": "6eec2473",
   "metadata": {
    "colab": {
     "base_uri": "https://localhost:8080/"
    },
    "id": "6eec2473",
    "outputId": "95d83255-151c-4345-ba3e-c767a072c4d7"
   },
   "outputs": [
    {
     "name": "stdout",
     "output_type": "stream",
     "text": [
      "2556 1316\n"
     ]
    }
   ],
   "source": [
    "# from google.colab import drive\n",
    "# drive.mount('/content/gdrive')\n",
    "# train = parse_data('/content/gdrive/My Drive/train.jsonl')\n",
    "# val = parse_data('/content/gdrive/My Drive/validation.jsonl')\n",
    "# print(len(train), len(val))"
   ]
  },
  {
   "cell_type": "markdown",
   "id": "3494e878",
   "metadata": {
    "id": "3494e878"
   },
   "source": [
    "### Определения ###"
   ]
  },
  {
   "cell_type": "code",
   "execution_count": 8,
   "id": "d1a64dce",
   "metadata": {
    "id": "d1a64dce"
   },
   "outputs": [],
   "source": [
    "class Runner():\n",
    "    def __init__(self, model, client, params, train, test, n_shots = 5, sleeptime = 2):\n",
    "        self.model = model\n",
    "        self.client = client\n",
    "        self.params = params\n",
    "        self.train = train\n",
    "        self.test = test\n",
    "        self.n_shots = n_shots\n",
    "        self.sleeptime = sleeptime\n",
    "\n",
    "    def run(self):\n",
    "        results = list()\n",
    "        for entry in tqdm(self.test):\n",
    "            time.sleep(self.sleeptime)\n",
    "            examples = [dict2tuple(x) for x in choices(self.train, k = n_shots)]\n",
    "            prompt = form_prompt(examples, entry['text'])\n",
    "            completion = client.chat.completions.create(model=self.model,\n",
    "                                                        **self.params,\n",
    "                                                        messages=[{\"role\": \"user\", \"content\": prompt}],)\n",
    "            result = completion.choices[0].message.content\n",
    "            try:\n",
    "                result = ast.literal_eval(result)\n",
    "            except (SyntaxError, ValueError):\n",
    "                print(f'bad response, iteration:{len(results)}')\n",
    "                result = []\n",
    "            results.append((entry['sent_id'],\n",
    "                            entry['text'],\n",
    "                            dict2tuple(entry)[1], # gold opinions\n",
    "                            result)) # pred opinions\n",
    "        return results\n",
    "\n",
    "def get_path(temp, n_shots):\n",
    "    path = f'/content/Grok_bl_{n_shots}shot_{temp}temp'\n",
    "    # returns full path but without \".csv\"\n",
    "    return path\n",
    "\n",
    "def save(dataframe, path, raw = True):\n",
    "    outdir, outname = '/'.join(path.split('/')[:-1]), path.split('/')[-1]\n",
    "    if not os.path.exists(outdir):\n",
    "        os.mkdir(outdir)\n",
    "    if raw:\n",
    "        dataframe.to_csv(f'{path}_raw.csv', index = False)\n",
    "    else:\n",
    "        dataframe.to_csv(f'{path}.csv', index = False)"
   ]
  },
  {
   "cell_type": "markdown",
   "id": "05fecbc7",
   "metadata": {
    "id": "05fecbc7"
   },
   "source": [
    "### Тест на одном примере ###"
   ]
  },
  {
   "cell_type": "code",
   "execution_count": 9,
   "id": "19bf1736",
   "metadata": {
    "colab": {
     "base_uri": "https://localhost:8080/"
    },
    "id": "19bf1736",
    "outputId": "9e683bf4-6521-4c7e-f363-2159b9fd07fa"
   },
   "outputs": [
    {
     "name": "stdout",
     "output_type": "stream",
     "text": [
      "--Промпт--:\n",
      "\n",
      "Ты эксперт в оценке тональности.\n",
      "Тебе нужно найти все негативные и позитивные отношения между сущностями в тексте и вывести их в следующем формате:\n",
      "[источник отношения, объект отношения, выражение в тексте содержащее оценку, оценка (POS/NEG)]\n",
      "Если источником отношения является автор, то пиши:\n",
      "['AUTHOR', объект отношения, выражение в тексте содержащее оценку, оценка (POS/NEG)]\n",
      "Если выраженного источника нет, то пиши:\n",
      "['NULL', объект отношения, выражение в тексте содержащее оценку, оценка (POS/NEG)]\n",
      "Допустимо вернуть пустой ответ:\n",
      "[]\n",
      "Не нужно давать пояснений к ответу.\n",
      "Примеры\n",
      "Текст: Президент Башкирии Муртаза Рахимов в очередной раз решил поменять главу своей администрации.\n",
      "Ответ: [['Муртаза Рахимов', 'главу своей администрации', 'поменять', 'NEG']]\n",
      "Текст: Вчера он уволил Азамата Сагитова, который возглавил башкирскую администрацию год назад после вынужденной отставки Радия Хабирова, сейчас занимающего пост заместителя начальника управления президента РФ по внутренней политике.\n",
      "Ответ: [['NULL', 'Азамата Сагитова', 'уволил', 'NEG']]\n",
      "Текст: Преемник господина Сагитова, которого перевели на работу в мэрию Уфы, пока не назначен.\n",
      "Ответ: []\n",
      "Текст: Как сообщил \"Ъ\" глава пресс-службы башкирского президента Айрат Мурзагалиев, вчера Муртаза Рахимов подписал указ об отставке главы своей администрации.\n",
      "Ответ: [['Муртаза Рахимов', 'главы своей администрации', 'отставке', 'NEG']]\n",
      "Текст: 42-летний Азамат Сагитов, ранее работавший в местных структурах по поддержке малого бизнеса, а затем главой одной из районных администраций Уфы, занял этот пост в июле прошлого года.\n",
      "Ответ: []\n",
      "Текст: Этому назначению предшествовал громкий скандал, сопровождавший историю отставки прежнего главы администрации Радия Хабирова.\n",
      "Ответ: \n"
     ]
    }
   ],
   "source": [
    "n_shots = 5\n",
    "examples = [dict2tuple(x) for x in train[:n_shots]]\n",
    "text, target = dict2tuple(train[n_shots])\n",
    "\n",
    "sample_prompt = form_prompt(examples, text)\n",
    "print(f'--Промпт--:\\n\\n{sample_prompt}')"
   ]
  },
  {
   "cell_type": "code",
   "execution_count": 10,
   "id": "da36d513",
   "metadata": {
    "colab": {
     "base_uri": "https://localhost:8080/"
    },
    "id": "da36d513",
    "outputId": "4fa9bd6c-20a8-4c8b-e3b0-767944955c2a"
   },
   "outputs": [
    {
     "name": "stdout",
     "output_type": "stream",
     "text": [
      "--Текст--:\n",
      "Этому назначению предшествовал громкий скандал, сопровождавший историю отставки прежнего главы администрации Радия Хабирова.\n",
      "--Таргет--:\n",
      "[['NULL', 'Радия Хабирова', 'громкий скандал', 'NEG']]\n",
      "--Предикт--:\n",
      "[['NULL', 'скандал', 'громкий', 'NEG']]\n"
     ]
    }
   ],
   "source": [
    "completion = client.chat.completions.create(\n",
    "    model=model,\n",
    "    **params,\n",
    "    messages=[{\"role\": \"user\",\n",
    "               \"content\": sample_prompt}],\n",
    ")\n",
    "\n",
    "response = completion.choices[0].message.content\n",
    "result = ast.literal_eval(response)\n",
    "\n",
    "print(f'--Текст--:\\n{text}')\n",
    "print(f'--Таргет--:\\n{target}')\n",
    "print(f'--Предикт--:\\n{extract_tuple(result)}')"
   ]
  },
  {
   "cell_type": "markdown",
   "id": "5a9fab09",
   "metadata": {
    "id": "5a9fab09"
   },
   "source": [
    "### Инференс ###"
   ]
  },
  {
   "cell_type": "code",
   "execution_count": null,
   "id": "e58a626b",
   "metadata": {
    "colab": {
     "base_uri": "https://localhost:8080/"
    },
    "id": "e58a626b",
    "outputId": "d09e5d5c-950c-4d66-b5ca-9d96ae4b8d08"
   },
   "outputs": [
    {
     "name": "stderr",
     "output_type": "stream",
     "text": [
      "100%|██████████| 1316/1316 [59:33<00:00,  2.72s/it]"
     ]
    },
    {
     "name": "stdout",
     "output_type": "stream",
     "text": [
      "CPU times: user 26.5 s, sys: 2.63 s, total: 29.1 s\n",
      "Wall time: 59min 33s\n"
     ]
    },
    {
     "name": "stderr",
     "output_type": "stream",
     "text": [
      "\n"
     ]
    }
   ],
   "source": [
    "%%time\n",
    "params = {'temperature': 0.2,\n",
    "          'top_p': 0.9,\n",
    "          'max_tokens': 512,\n",
    "         'seed': SEED}\n",
    "n_shots = 11\n",
    "runner = Runner(model, client, params, train, val, n_shots)\n",
    "\n",
    "path = get_path(params['temperature'], n_shots)\n",
    "result = runner.run()"
   ]
  },
  {
   "cell_type": "code",
   "execution_count": null,
   "id": "a0f2bda1",
   "metadata": {
    "colab": {
     "base_uri": "https://localhost:8080/"
    },
    "id": "a0f2bda1",
    "outputId": "a6795f49-7c7a-4996-808a-50eca14d89f3"
   },
   "outputs": [
    {
     "name": "stdout",
     "output_type": "stream",
     "text": [
      "/content/gdrive/My Drive/Grok_bl_11shot_0.2temp\n",
      "(0, 'В числе участников президентской борьбы есть одна женщина — Айссата Хайдара Сиссе (Aissata Haidara Cisse).', [], [])\n"
     ]
    }
   ],
   "source": [
    "print(path)\n",
    "print(result[0])"
   ]
  },
  {
   "cell_type": "markdown",
   "id": "5f7d221d",
   "metadata": {
    "id": "5f7d221d"
   },
   "source": [
    "### Результаты ###"
   ]
  },
  {
   "cell_type": "code",
   "execution_count": null,
   "id": "048cb272",
   "metadata": {
    "colab": {
     "base_uri": "https://localhost:8080/",
     "height": 206
    },
    "id": "048cb272",
    "outputId": "9b32900c-8c85-4355-8ddc-fa5193865bf8"
   },
   "outputs": [
    {
     "data": {
      "application/vnd.google.colaboratory.intrinsic+json": {
       "summary": "{\n  \"name\": \"output\",\n  \"rows\": 1316,\n  \"fields\": [\n    {\n      \"column\": \"sent_id\",\n      \"properties\": {\n        \"dtype\": \"number\",\n        \"std\": 380,\n        \"min\": 0,\n        \"max\": 1315,\n        \"num_unique_values\": 1316,\n        \"samples\": [\n          198,\n          558,\n          371\n        ],\n        \"semantic_type\": \"\",\n        \"description\": \"\"\n      }\n    },\n    {\n      \"column\": \"text\",\n      \"properties\": {\n        \"dtype\": \"string\",\n        \"num_unique_values\": 1316,\n        \"samples\": [\n          \"\\u0412 2009 \\u0433\\u043e\\u0434\\u0443 \\u0430\\u043c\\u0435\\u0440\\u0438\\u043a\\u0430\\u043d\\u0441\\u043a\\u0438\\u0439 \\u0441\\u0430\\u043c\\u043e\\u043b\\u0451\\u0442 \\u0443\\u0434\\u0430\\u0440\\u0438\\u043b \\u043f\\u043e \\u0434\\u0432\\u0443\\u043c \\u0431\\u0435\\u043d\\u0437\\u043e\\u0432\\u043e\\u0437\\u0430\\u043c, \\u0437\\u0430\\u0445\\u0432\\u0430\\u0447\\u0435\\u043d\\u043d\\u044b\\u043c \\u0442\\u0430\\u043b\\u0438\\u0431\\u0430\\u043c\\u0438, \\u0443\\u0431\\u0438\\u0432 \\u0431\\u043e\\u043b\\u0435\\u0435 90 \\u0433\\u0440\\u0430\\u0436\\u0434\\u0430\\u043d\\u0441\\u043a\\u0438\\u0445 \\u043b\\u0438\\u0446, \\u043a\\u043e\\u0442\\u043e\\u0440\\u044b\\u0435 \\u0441\\u043e\\u0431\\u0440\\u0430\\u043b\\u0438\\u0441\\u044c, \\u0447\\u0442\\u043e\\u0431\\u044b \\u0432\\u044b\\u043a\\u0430\\u0447\\u0430\\u0442\\u044c \\u043e\\u0442\\u0442\\u0443\\u0434\\u0430 \\u0431\\u0435\\u043d\\u0437\\u0438\\u043d.\",\n          \"\\u0421\\u0435\\u0433\\u043e\\u0434\\u043d\\u044f \\u0433\\u0430\\u043d\\u0446\\u044b \\u0432 \\u043c\\u0430\\u0442\\u0447\\u0435 \\u0441 \\u043c\\u0430\\u043b\\u0438\\u0439\\u0446\\u0430\\u043c\\u0438 \\u043e\\u043f\\u0440\\u0435\\u0434\\u0435\\u043b\\u044f\\u0442 \\u043e\\u0431\\u043b\\u0430\\u0434\\u0430\\u0442\\u0435\\u043b\\u044f \\u0431\\u0440\\u043e\\u043d\\u0437\\u043e\\u0432\\u044b\\u0445 \\u043c\\u0435\\u0434\\u0430\\u043b\\u0435\\u0439, \\u0430 \\u0437\\u0430\\u0432\\u0442\\u0440\\u0430 \\u0432 \\u0441\\u0442\\u043e\\u043b\\u0438\\u0446\\u0435 \\u0413\\u0430\\u0431\\u043e\\u043d\\u0430, \\u041b\\u0438\\u0431\\u0440\\u0435\\u0432\\u0438\\u043b\\u0435, \\u0441\\u043e\\u0441\\u0442\\u043e\\u0438\\u0442\\u0441\\u044f \\u0444\\u0438\\u043d\\u0430\\u043b, \\u0433\\u0434\\u0435 \\u0438\\u0432\\u0443\\u0430\\u0440\\u0438\\u0439\\u0446\\u044b \\u043f\\u043e\\u0441\\u0442\\u0430\\u0440\\u0430\\u044e\\u0442\\u0441\\u044f \\u0432\\u043e \\u0432\\u0442\\u043e\\u0440\\u043e\\u0439 \\u0440\\u0430\\u0437 \\u0432 \\u0441\\u0432\\u043e\\u0435\\u0439 \\u0438\\u0441\\u0442\\u043e\\u0440\\u0438\\u0438 \\u0437\\u0430\\u0432\\u043e\\u0435\\u0432\\u0430\\u0442\\u044c \\u0441\\u0430\\u043c\\u044b\\u0439 \\u043f\\u0440\\u0435\\u0441\\u0442\\u0438\\u0436\\u043d\\u044b\\u0439 \\u043d\\u0430 \\u0430\\u0444\\u0440\\u0438\\u043a\\u0430\\u043d\\u0441\\u043a\\u043e\\u043c \\u043a\\u043e\\u043d\\u0442\\u0438\\u043d\\u0435\\u043d\\u0442\\u0435 \\u0442\\u0440\\u043e\\u0444\\u0435\\u0439.\",\n          \"\\u041e \\u0442\\u043e\\u043c, \\u0447\\u0442\\u043e \\u0441\\u0442\\u0440\\u0430\\u043d\\u0430 \\u043d\\u0430\\u0445\\u043e\\u0434\\u0438\\u0442\\u0441\\u044f \\u0432 \\u0441\\u0435\\u0439\\u0441\\u043c\\u043e\\u043e\\u043f\\u0430\\u0441\\u043d\\u043e\\u0439 \\u0437\\u043e\\u043d\\u0435, \\u043d\\u0430\\u043f\\u043e\\u043c\\u043d\\u0438\\u043b\\u043e 11 \\u043c\\u0430\\u0440\\u0442\\u0430 \\u044d\\u0442\\u043e\\u0433\\u043e \\u0433\\u043e\\u0434\\u0430 \\u0437\\u0435\\u043c\\u043b\\u0435\\u0442\\u0440\\u044f\\u0441\\u0435\\u043d\\u0438\\u0435 \\u043c\\u0430\\u0433\\u043d\\u0438\\u0442\\u0443\\u0434\\u043e\\u0439 9.0 \\u0438 \\u043f\\u043e\\u0441\\u043b\\u0435\\u0434\\u043e\\u0432\\u0430\\u0432\\u0448\\u0435\\u0435 \\u0437\\u0430 \\u043d\\u0438\\u043c \\u0446\\u0443\\u043d\\u0430\\u043c\\u0438.\"\n        ],\n        \"semantic_type\": \"\",\n        \"description\": \"\"\n      }\n    },\n    {\n      \"column\": \"target\",\n      \"properties\": {\n        \"dtype\": \"object\",\n        \"semantic_type\": \"\",\n        \"description\": \"\"\n      }\n    },\n    {\n      \"column\": \"pred\",\n      \"properties\": {\n        \"dtype\": \"object\",\n        \"semantic_type\": \"\",\n        \"description\": \"\"\n      }\n    }\n  ]\n}",
       "type": "dataframe",
       "variable_name": "output"
      },
      "text/html": [
       "\n",
       "  <div id=\"df-31b52e32-f6a9-4b58-958b-37041ccfb584\" class=\"colab-df-container\">\n",
       "    <div>\n",
       "<style scoped>\n",
       "    .dataframe tbody tr th:only-of-type {\n",
       "        vertical-align: middle;\n",
       "    }\n",
       "\n",
       "    .dataframe tbody tr th {\n",
       "        vertical-align: top;\n",
       "    }\n",
       "\n",
       "    .dataframe thead th {\n",
       "        text-align: right;\n",
       "    }\n",
       "</style>\n",
       "<table border=\"1\" class=\"dataframe\">\n",
       "  <thead>\n",
       "    <tr style=\"text-align: right;\">\n",
       "      <th></th>\n",
       "      <th>sent_id</th>\n",
       "      <th>text</th>\n",
       "      <th>target</th>\n",
       "      <th>pred</th>\n",
       "    </tr>\n",
       "  </thead>\n",
       "  <tbody>\n",
       "    <tr>\n",
       "      <th>0</th>\n",
       "      <td>0</td>\n",
       "      <td>В числе участников президентской борьбы есть о...</td>\n",
       "      <td>[]</td>\n",
       "      <td>[]</td>\n",
       "    </tr>\n",
       "    <tr>\n",
       "      <th>1</th>\n",
       "      <td>1</td>\n",
       "      <td>Кандидатке на пост президента 54 года, она род...</td>\n",
       "      <td>[]</td>\n",
       "      <td>[]</td>\n",
       "    </tr>\n",
       "    <tr>\n",
       "      <th>2</th>\n",
       "      <td>2</td>\n",
       "      <td>Сама женщина заявила, что встречаться с сыном ...</td>\n",
       "      <td>[]</td>\n",
       "      <td>[[сама женщина, сыном, пришлось в присутствии ...</td>\n",
       "    </tr>\n",
       "    <tr>\n",
       "      <th>3</th>\n",
       "      <td>3</td>\n",
       "      <td>Они снимали нас все эти 5 минут, что длилось с...</td>\n",
       "      <td>[]</td>\n",
       "      <td>[]</td>\n",
       "    </tr>\n",
       "    <tr>\n",
       "      <th>4</th>\n",
       "      <td>4</td>\n",
       "      <td>Кроме того, по словам женщины на щеке сына Све...</td>\n",
       "      <td>[]</td>\n",
       "      <td>[[Светлана, сына, синяк, NEG]]</td>\n",
       "    </tr>\n",
       "  </tbody>\n",
       "</table>\n",
       "</div>\n",
       "    <div class=\"colab-df-buttons\">\n",
       "\n",
       "  <div class=\"colab-df-container\">\n",
       "    <button class=\"colab-df-convert\" onclick=\"convertToInteractive('df-31b52e32-f6a9-4b58-958b-37041ccfb584')\"\n",
       "            title=\"Convert this dataframe to an interactive table.\"\n",
       "            style=\"display:none;\">\n",
       "\n",
       "  <svg xmlns=\"http://www.w3.org/2000/svg\" height=\"24px\" viewBox=\"0 -960 960 960\">\n",
       "    <path d=\"M120-120v-720h720v720H120Zm60-500h600v-160H180v160Zm220 220h160v-160H400v160Zm0 220h160v-160H400v160ZM180-400h160v-160H180v160Zm440 0h160v-160H620v160ZM180-180h160v-160H180v160Zm440 0h160v-160H620v160Z\"/>\n",
       "  </svg>\n",
       "    </button>\n",
       "\n",
       "  <style>\n",
       "    .colab-df-container {\n",
       "      display:flex;\n",
       "      gap: 12px;\n",
       "    }\n",
       "\n",
       "    .colab-df-convert {\n",
       "      background-color: #E8F0FE;\n",
       "      border: none;\n",
       "      border-radius: 50%;\n",
       "      cursor: pointer;\n",
       "      display: none;\n",
       "      fill: #1967D2;\n",
       "      height: 32px;\n",
       "      padding: 0 0 0 0;\n",
       "      width: 32px;\n",
       "    }\n",
       "\n",
       "    .colab-df-convert:hover {\n",
       "      background-color: #E2EBFA;\n",
       "      box-shadow: 0px 1px 2px rgba(60, 64, 67, 0.3), 0px 1px 3px 1px rgba(60, 64, 67, 0.15);\n",
       "      fill: #174EA6;\n",
       "    }\n",
       "\n",
       "    .colab-df-buttons div {\n",
       "      margin-bottom: 4px;\n",
       "    }\n",
       "\n",
       "    [theme=dark] .colab-df-convert {\n",
       "      background-color: #3B4455;\n",
       "      fill: #D2E3FC;\n",
       "    }\n",
       "\n",
       "    [theme=dark] .colab-df-convert:hover {\n",
       "      background-color: #434B5C;\n",
       "      box-shadow: 0px 1px 3px 1px rgba(0, 0, 0, 0.15);\n",
       "      filter: drop-shadow(0px 1px 2px rgba(0, 0, 0, 0.3));\n",
       "      fill: #FFFFFF;\n",
       "    }\n",
       "  </style>\n",
       "\n",
       "    <script>\n",
       "      const buttonEl =\n",
       "        document.querySelector('#df-31b52e32-f6a9-4b58-958b-37041ccfb584 button.colab-df-convert');\n",
       "      buttonEl.style.display =\n",
       "        google.colab.kernel.accessAllowed ? 'block' : 'none';\n",
       "\n",
       "      async function convertToInteractive(key) {\n",
       "        const element = document.querySelector('#df-31b52e32-f6a9-4b58-958b-37041ccfb584');\n",
       "        const dataTable =\n",
       "          await google.colab.kernel.invokeFunction('convertToInteractive',\n",
       "                                                    [key], {});\n",
       "        if (!dataTable) return;\n",
       "\n",
       "        const docLinkHtml = 'Like what you see? Visit the ' +\n",
       "          '<a target=\"_blank\" href=https://colab.research.google.com/notebooks/data_table.ipynb>data table notebook</a>'\n",
       "          + ' to learn more about interactive tables.';\n",
       "        element.innerHTML = '';\n",
       "        dataTable['output_type'] = 'display_data';\n",
       "        await google.colab.output.renderOutput(dataTable, element);\n",
       "        const docLink = document.createElement('div');\n",
       "        docLink.innerHTML = docLinkHtml;\n",
       "        element.appendChild(docLink);\n",
       "      }\n",
       "    </script>\n",
       "  </div>\n",
       "\n",
       "\n",
       "<div id=\"df-59980a8b-c91b-44b6-806a-18446edde5bb\">\n",
       "  <button class=\"colab-df-quickchart\" onclick=\"quickchart('df-59980a8b-c91b-44b6-806a-18446edde5bb')\"\n",
       "            title=\"Suggest charts\"\n",
       "            style=\"display:none;\">\n",
       "\n",
       "<svg xmlns=\"http://www.w3.org/2000/svg\" height=\"24px\"viewBox=\"0 0 24 24\"\n",
       "     width=\"24px\">\n",
       "    <g>\n",
       "        <path d=\"M19 3H5c-1.1 0-2 .9-2 2v14c0 1.1.9 2 2 2h14c1.1 0 2-.9 2-2V5c0-1.1-.9-2-2-2zM9 17H7v-7h2v7zm4 0h-2V7h2v10zm4 0h-2v-4h2v4z\"/>\n",
       "    </g>\n",
       "</svg>\n",
       "  </button>\n",
       "\n",
       "<style>\n",
       "  .colab-df-quickchart {\n",
       "      --bg-color: #E8F0FE;\n",
       "      --fill-color: #1967D2;\n",
       "      --hover-bg-color: #E2EBFA;\n",
       "      --hover-fill-color: #174EA6;\n",
       "      --disabled-fill-color: #AAA;\n",
       "      --disabled-bg-color: #DDD;\n",
       "  }\n",
       "\n",
       "  [theme=dark] .colab-df-quickchart {\n",
       "      --bg-color: #3B4455;\n",
       "      --fill-color: #D2E3FC;\n",
       "      --hover-bg-color: #434B5C;\n",
       "      --hover-fill-color: #FFFFFF;\n",
       "      --disabled-bg-color: #3B4455;\n",
       "      --disabled-fill-color: #666;\n",
       "  }\n",
       "\n",
       "  .colab-df-quickchart {\n",
       "    background-color: var(--bg-color);\n",
       "    border: none;\n",
       "    border-radius: 50%;\n",
       "    cursor: pointer;\n",
       "    display: none;\n",
       "    fill: var(--fill-color);\n",
       "    height: 32px;\n",
       "    padding: 0;\n",
       "    width: 32px;\n",
       "  }\n",
       "\n",
       "  .colab-df-quickchart:hover {\n",
       "    background-color: var(--hover-bg-color);\n",
       "    box-shadow: 0 1px 2px rgba(60, 64, 67, 0.3), 0 1px 3px 1px rgba(60, 64, 67, 0.15);\n",
       "    fill: var(--button-hover-fill-color);\n",
       "  }\n",
       "\n",
       "  .colab-df-quickchart-complete:disabled,\n",
       "  .colab-df-quickchart-complete:disabled:hover {\n",
       "    background-color: var(--disabled-bg-color);\n",
       "    fill: var(--disabled-fill-color);\n",
       "    box-shadow: none;\n",
       "  }\n",
       "\n",
       "  .colab-df-spinner {\n",
       "    border: 2px solid var(--fill-color);\n",
       "    border-color: transparent;\n",
       "    border-bottom-color: var(--fill-color);\n",
       "    animation:\n",
       "      spin 1s steps(1) infinite;\n",
       "  }\n",
       "\n",
       "  @keyframes spin {\n",
       "    0% {\n",
       "      border-color: transparent;\n",
       "      border-bottom-color: var(--fill-color);\n",
       "      border-left-color: var(--fill-color);\n",
       "    }\n",
       "    20% {\n",
       "      border-color: transparent;\n",
       "      border-left-color: var(--fill-color);\n",
       "      border-top-color: var(--fill-color);\n",
       "    }\n",
       "    30% {\n",
       "      border-color: transparent;\n",
       "      border-left-color: var(--fill-color);\n",
       "      border-top-color: var(--fill-color);\n",
       "      border-right-color: var(--fill-color);\n",
       "    }\n",
       "    40% {\n",
       "      border-color: transparent;\n",
       "      border-right-color: var(--fill-color);\n",
       "      border-top-color: var(--fill-color);\n",
       "    }\n",
       "    60% {\n",
       "      border-color: transparent;\n",
       "      border-right-color: var(--fill-color);\n",
       "    }\n",
       "    80% {\n",
       "      border-color: transparent;\n",
       "      border-right-color: var(--fill-color);\n",
       "      border-bottom-color: var(--fill-color);\n",
       "    }\n",
       "    90% {\n",
       "      border-color: transparent;\n",
       "      border-bottom-color: var(--fill-color);\n",
       "    }\n",
       "  }\n",
       "</style>\n",
       "\n",
       "  <script>\n",
       "    async function quickchart(key) {\n",
       "      const quickchartButtonEl =\n",
       "        document.querySelector('#' + key + ' button');\n",
       "      quickchartButtonEl.disabled = true;  // To prevent multiple clicks.\n",
       "      quickchartButtonEl.classList.add('colab-df-spinner');\n",
       "      try {\n",
       "        const charts = await google.colab.kernel.invokeFunction(\n",
       "            'suggestCharts', [key], {});\n",
       "      } catch (error) {\n",
       "        console.error('Error during call to suggestCharts:', error);\n",
       "      }\n",
       "      quickchartButtonEl.classList.remove('colab-df-spinner');\n",
       "      quickchartButtonEl.classList.add('colab-df-quickchart-complete');\n",
       "    }\n",
       "    (() => {\n",
       "      let quickchartButtonEl =\n",
       "        document.querySelector('#df-59980a8b-c91b-44b6-806a-18446edde5bb button');\n",
       "      quickchartButtonEl.style.display =\n",
       "        google.colab.kernel.accessAllowed ? 'block' : 'none';\n",
       "    })();\n",
       "  </script>\n",
       "</div>\n",
       "    </div>\n",
       "  </div>\n"
      ],
      "text/plain": [
       "   sent_id                                               text target  \\\n",
       "0        0  В числе участников президентской борьбы есть о...     []   \n",
       "1        1  Кандидатке на пост президента 54 года, она род...     []   \n",
       "2        2  Сама женщина заявила, что встречаться с сыном ...     []   \n",
       "3        3  Они снимали нас все эти 5 минут, что длилось с...     []   \n",
       "4        4  Кроме того, по словам женщины на щеке сына Све...     []   \n",
       "\n",
       "                                                pred  \n",
       "0                                                 []  \n",
       "1                                                 []  \n",
       "2  [[сама женщина, сыном, пришлось в присутствии ...  \n",
       "3                                                 []  \n",
       "4                     [[Светлана, сына, синяк, NEG]]  "
      ]
     },
     "execution_count": 8,
     "metadata": {},
     "output_type": "execute_result"
    }
   ],
   "source": [
    "output = pd.DataFrame(result, columns = ['sent_id', 'text', 'target', 'pred'])\n",
    "output.head()"
   ]
  },
  {
   "cell_type": "code",
   "execution_count": null,
   "id": "f7b122c2",
   "metadata": {
    "colab": {
     "base_uri": "https://localhost:8080/"
    },
    "id": "f7b122c2",
    "outputId": "aec9e7e1-0892-48a5-8119-fb95aa406a7b"
   },
   "outputs": [
    {
     "name": "stdout",
     "output_type": "stream",
     "text": [
      "/content/gdrive/My Drive/Grok_bl_11shot_0.2temp\n"
     ]
    }
   ],
   "source": [
    "print(path)\n",
    "save(output, path)"
   ]
  },
  {
   "cell_type": "code",
   "execution_count": null,
   "id": "5a820a20",
   "metadata": {
    "colab": {
     "base_uri": "https://localhost:8080/",
     "height": 206
    },
    "id": "5a820a20",
    "outputId": "14c05997-1308-4074-fcdd-884051c50774"
   },
   "outputs": [
    {
     "data": {
      "application/vnd.google.colaboratory.intrinsic+json": {
       "summary": "{\n  \"name\": \"output\",\n  \"rows\": 1316,\n  \"fields\": [\n    {\n      \"column\": \"sent_id\",\n      \"properties\": {\n        \"dtype\": \"number\",\n        \"std\": 380,\n        \"min\": 0,\n        \"max\": 1315,\n        \"num_unique_values\": 1316,\n        \"samples\": [\n          198,\n          558,\n          371\n        ],\n        \"semantic_type\": \"\",\n        \"description\": \"\"\n      }\n    },\n    {\n      \"column\": \"text\",\n      \"properties\": {\n        \"dtype\": \"string\",\n        \"num_unique_values\": 1316,\n        \"samples\": [\n          \"\\u0412 2009 \\u0433\\u043e\\u0434\\u0443 \\u0430\\u043c\\u0435\\u0440\\u0438\\u043a\\u0430\\u043d\\u0441\\u043a\\u0438\\u0439 \\u0441\\u0430\\u043c\\u043e\\u043b\\u0451\\u0442 \\u0443\\u0434\\u0430\\u0440\\u0438\\u043b \\u043f\\u043e \\u0434\\u0432\\u0443\\u043c \\u0431\\u0435\\u043d\\u0437\\u043e\\u0432\\u043e\\u0437\\u0430\\u043c, \\u0437\\u0430\\u0445\\u0432\\u0430\\u0447\\u0435\\u043d\\u043d\\u044b\\u043c \\u0442\\u0430\\u043b\\u0438\\u0431\\u0430\\u043c\\u0438, \\u0443\\u0431\\u0438\\u0432 \\u0431\\u043e\\u043b\\u0435\\u0435 90 \\u0433\\u0440\\u0430\\u0436\\u0434\\u0430\\u043d\\u0441\\u043a\\u0438\\u0445 \\u043b\\u0438\\u0446, \\u043a\\u043e\\u0442\\u043e\\u0440\\u044b\\u0435 \\u0441\\u043e\\u0431\\u0440\\u0430\\u043b\\u0438\\u0441\\u044c, \\u0447\\u0442\\u043e\\u0431\\u044b \\u0432\\u044b\\u043a\\u0430\\u0447\\u0430\\u0442\\u044c \\u043e\\u0442\\u0442\\u0443\\u0434\\u0430 \\u0431\\u0435\\u043d\\u0437\\u0438\\u043d.\",\n          \"\\u0421\\u0435\\u0433\\u043e\\u0434\\u043d\\u044f \\u0433\\u0430\\u043d\\u0446\\u044b \\u0432 \\u043c\\u0430\\u0442\\u0447\\u0435 \\u0441 \\u043c\\u0430\\u043b\\u0438\\u0439\\u0446\\u0430\\u043c\\u0438 \\u043e\\u043f\\u0440\\u0435\\u0434\\u0435\\u043b\\u044f\\u0442 \\u043e\\u0431\\u043b\\u0430\\u0434\\u0430\\u0442\\u0435\\u043b\\u044f \\u0431\\u0440\\u043e\\u043d\\u0437\\u043e\\u0432\\u044b\\u0445 \\u043c\\u0435\\u0434\\u0430\\u043b\\u0435\\u0439, \\u0430 \\u0437\\u0430\\u0432\\u0442\\u0440\\u0430 \\u0432 \\u0441\\u0442\\u043e\\u043b\\u0438\\u0446\\u0435 \\u0413\\u0430\\u0431\\u043e\\u043d\\u0430, \\u041b\\u0438\\u0431\\u0440\\u0435\\u0432\\u0438\\u043b\\u0435, \\u0441\\u043e\\u0441\\u0442\\u043e\\u0438\\u0442\\u0441\\u044f \\u0444\\u0438\\u043d\\u0430\\u043b, \\u0433\\u0434\\u0435 \\u0438\\u0432\\u0443\\u0430\\u0440\\u0438\\u0439\\u0446\\u044b \\u043f\\u043e\\u0441\\u0442\\u0430\\u0440\\u0430\\u044e\\u0442\\u0441\\u044f \\u0432\\u043e \\u0432\\u0442\\u043e\\u0440\\u043e\\u0439 \\u0440\\u0430\\u0437 \\u0432 \\u0441\\u0432\\u043e\\u0435\\u0439 \\u0438\\u0441\\u0442\\u043e\\u0440\\u0438\\u0438 \\u0437\\u0430\\u0432\\u043e\\u0435\\u0432\\u0430\\u0442\\u044c \\u0441\\u0430\\u043c\\u044b\\u0439 \\u043f\\u0440\\u0435\\u0441\\u0442\\u0438\\u0436\\u043d\\u044b\\u0439 \\u043d\\u0430 \\u0430\\u0444\\u0440\\u0438\\u043a\\u0430\\u043d\\u0441\\u043a\\u043e\\u043c \\u043a\\u043e\\u043d\\u0442\\u0438\\u043d\\u0435\\u043d\\u0442\\u0435 \\u0442\\u0440\\u043e\\u0444\\u0435\\u0439.\",\n          \"\\u041e \\u0442\\u043e\\u043c, \\u0447\\u0442\\u043e \\u0441\\u0442\\u0440\\u0430\\u043d\\u0430 \\u043d\\u0430\\u0445\\u043e\\u0434\\u0438\\u0442\\u0441\\u044f \\u0432 \\u0441\\u0435\\u0439\\u0441\\u043c\\u043e\\u043e\\u043f\\u0430\\u0441\\u043d\\u043e\\u0439 \\u0437\\u043e\\u043d\\u0435, \\u043d\\u0430\\u043f\\u043e\\u043c\\u043d\\u0438\\u043b\\u043e 11 \\u043c\\u0430\\u0440\\u0442\\u0430 \\u044d\\u0442\\u043e\\u0433\\u043e \\u0433\\u043e\\u0434\\u0430 \\u0437\\u0435\\u043c\\u043b\\u0435\\u0442\\u0440\\u044f\\u0441\\u0435\\u043d\\u0438\\u0435 \\u043c\\u0430\\u0433\\u043d\\u0438\\u0442\\u0443\\u0434\\u043e\\u0439 9.0 \\u0438 \\u043f\\u043e\\u0441\\u043b\\u0435\\u0434\\u043e\\u0432\\u0430\\u0432\\u0448\\u0435\\u0435 \\u0437\\u0430 \\u043d\\u0438\\u043c \\u0446\\u0443\\u043d\\u0430\\u043c\\u0438.\"\n        ],\n        \"semantic_type\": \"\",\n        \"description\": \"\"\n      }\n    },\n    {\n      \"column\": \"target\",\n      \"properties\": {\n        \"dtype\": \"object\",\n        \"semantic_type\": \"\",\n        \"description\": \"\"\n      }\n    },\n    {\n      \"column\": \"pred\",\n      \"properties\": {\n        \"dtype\": \"object\",\n        \"semantic_type\": \"\",\n        \"description\": \"\"\n      }\n    }\n  ]\n}",
       "type": "dataframe",
       "variable_name": "output"
      },
      "text/html": [
       "\n",
       "  <div id=\"df-6c9e511a-d59f-405b-bd68-528197db2f61\" class=\"colab-df-container\">\n",
       "    <div>\n",
       "<style scoped>\n",
       "    .dataframe tbody tr th:only-of-type {\n",
       "        vertical-align: middle;\n",
       "    }\n",
       "\n",
       "    .dataframe tbody tr th {\n",
       "        vertical-align: top;\n",
       "    }\n",
       "\n",
       "    .dataframe thead th {\n",
       "        text-align: right;\n",
       "    }\n",
       "</style>\n",
       "<table border=\"1\" class=\"dataframe\">\n",
       "  <thead>\n",
       "    <tr style=\"text-align: right;\">\n",
       "      <th></th>\n",
       "      <th>sent_id</th>\n",
       "      <th>text</th>\n",
       "      <th>target</th>\n",
       "      <th>pred</th>\n",
       "    </tr>\n",
       "  </thead>\n",
       "  <tbody>\n",
       "    <tr>\n",
       "      <th>0</th>\n",
       "      <td>0</td>\n",
       "      <td>В числе участников президентской борьбы есть о...</td>\n",
       "      <td>[]</td>\n",
       "      <td>[]</td>\n",
       "    </tr>\n",
       "    <tr>\n",
       "      <th>1</th>\n",
       "      <td>1</td>\n",
       "      <td>Кандидатке на пост президента 54 года, она род...</td>\n",
       "      <td>[]</td>\n",
       "      <td>[]</td>\n",
       "    </tr>\n",
       "    <tr>\n",
       "      <th>2</th>\n",
       "      <td>2</td>\n",
       "      <td>Сама женщина заявила, что встречаться с сыном ...</td>\n",
       "      <td>[]</td>\n",
       "      <td>[[сама женщина, сыном, пришлось в присутствии ...</td>\n",
       "    </tr>\n",
       "    <tr>\n",
       "      <th>3</th>\n",
       "      <td>3</td>\n",
       "      <td>Они снимали нас все эти 5 минут, что длилось с...</td>\n",
       "      <td>[]</td>\n",
       "      <td>[]</td>\n",
       "    </tr>\n",
       "    <tr>\n",
       "      <th>4</th>\n",
       "      <td>4</td>\n",
       "      <td>Кроме того, по словам женщины на щеке сына Све...</td>\n",
       "      <td>[]</td>\n",
       "      <td>[[Светлана, сына, синяк, NEG]]</td>\n",
       "    </tr>\n",
       "  </tbody>\n",
       "</table>\n",
       "</div>\n",
       "    <div class=\"colab-df-buttons\">\n",
       "\n",
       "  <div class=\"colab-df-container\">\n",
       "    <button class=\"colab-df-convert\" onclick=\"convertToInteractive('df-6c9e511a-d59f-405b-bd68-528197db2f61')\"\n",
       "            title=\"Convert this dataframe to an interactive table.\"\n",
       "            style=\"display:none;\">\n",
       "\n",
       "  <svg xmlns=\"http://www.w3.org/2000/svg\" height=\"24px\" viewBox=\"0 -960 960 960\">\n",
       "    <path d=\"M120-120v-720h720v720H120Zm60-500h600v-160H180v160Zm220 220h160v-160H400v160Zm0 220h160v-160H400v160ZM180-400h160v-160H180v160Zm440 0h160v-160H620v160ZM180-180h160v-160H180v160Zm440 0h160v-160H620v160Z\"/>\n",
       "  </svg>\n",
       "    </button>\n",
       "\n",
       "  <style>\n",
       "    .colab-df-container {\n",
       "      display:flex;\n",
       "      gap: 12px;\n",
       "    }\n",
       "\n",
       "    .colab-df-convert {\n",
       "      background-color: #E8F0FE;\n",
       "      border: none;\n",
       "      border-radius: 50%;\n",
       "      cursor: pointer;\n",
       "      display: none;\n",
       "      fill: #1967D2;\n",
       "      height: 32px;\n",
       "      padding: 0 0 0 0;\n",
       "      width: 32px;\n",
       "    }\n",
       "\n",
       "    .colab-df-convert:hover {\n",
       "      background-color: #E2EBFA;\n",
       "      box-shadow: 0px 1px 2px rgba(60, 64, 67, 0.3), 0px 1px 3px 1px rgba(60, 64, 67, 0.15);\n",
       "      fill: #174EA6;\n",
       "    }\n",
       "\n",
       "    .colab-df-buttons div {\n",
       "      margin-bottom: 4px;\n",
       "    }\n",
       "\n",
       "    [theme=dark] .colab-df-convert {\n",
       "      background-color: #3B4455;\n",
       "      fill: #D2E3FC;\n",
       "    }\n",
       "\n",
       "    [theme=dark] .colab-df-convert:hover {\n",
       "      background-color: #434B5C;\n",
       "      box-shadow: 0px 1px 3px 1px rgba(0, 0, 0, 0.15);\n",
       "      filter: drop-shadow(0px 1px 2px rgba(0, 0, 0, 0.3));\n",
       "      fill: #FFFFFF;\n",
       "    }\n",
       "  </style>\n",
       "\n",
       "    <script>\n",
       "      const buttonEl =\n",
       "        document.querySelector('#df-6c9e511a-d59f-405b-bd68-528197db2f61 button.colab-df-convert');\n",
       "      buttonEl.style.display =\n",
       "        google.colab.kernel.accessAllowed ? 'block' : 'none';\n",
       "\n",
       "      async function convertToInteractive(key) {\n",
       "        const element = document.querySelector('#df-6c9e511a-d59f-405b-bd68-528197db2f61');\n",
       "        const dataTable =\n",
       "          await google.colab.kernel.invokeFunction('convertToInteractive',\n",
       "                                                    [key], {});\n",
       "        if (!dataTable) return;\n",
       "\n",
       "        const docLinkHtml = 'Like what you see? Visit the ' +\n",
       "          '<a target=\"_blank\" href=https://colab.research.google.com/notebooks/data_table.ipynb>data table notebook</a>'\n",
       "          + ' to learn more about interactive tables.';\n",
       "        element.innerHTML = '';\n",
       "        dataTable['output_type'] = 'display_data';\n",
       "        await google.colab.output.renderOutput(dataTable, element);\n",
       "        const docLink = document.createElement('div');\n",
       "        docLink.innerHTML = docLinkHtml;\n",
       "        element.appendChild(docLink);\n",
       "      }\n",
       "    </script>\n",
       "  </div>\n",
       "\n",
       "\n",
       "<div id=\"df-0fb6896f-b221-441e-934f-0a89cedda3b7\">\n",
       "  <button class=\"colab-df-quickchart\" onclick=\"quickchart('df-0fb6896f-b221-441e-934f-0a89cedda3b7')\"\n",
       "            title=\"Suggest charts\"\n",
       "            style=\"display:none;\">\n",
       "\n",
       "<svg xmlns=\"http://www.w3.org/2000/svg\" height=\"24px\"viewBox=\"0 0 24 24\"\n",
       "     width=\"24px\">\n",
       "    <g>\n",
       "        <path d=\"M19 3H5c-1.1 0-2 .9-2 2v14c0 1.1.9 2 2 2h14c1.1 0 2-.9 2-2V5c0-1.1-.9-2-2-2zM9 17H7v-7h2v7zm4 0h-2V7h2v10zm4 0h-2v-4h2v4z\"/>\n",
       "    </g>\n",
       "</svg>\n",
       "  </button>\n",
       "\n",
       "<style>\n",
       "  .colab-df-quickchart {\n",
       "      --bg-color: #E8F0FE;\n",
       "      --fill-color: #1967D2;\n",
       "      --hover-bg-color: #E2EBFA;\n",
       "      --hover-fill-color: #174EA6;\n",
       "      --disabled-fill-color: #AAA;\n",
       "      --disabled-bg-color: #DDD;\n",
       "  }\n",
       "\n",
       "  [theme=dark] .colab-df-quickchart {\n",
       "      --bg-color: #3B4455;\n",
       "      --fill-color: #D2E3FC;\n",
       "      --hover-bg-color: #434B5C;\n",
       "      --hover-fill-color: #FFFFFF;\n",
       "      --disabled-bg-color: #3B4455;\n",
       "      --disabled-fill-color: #666;\n",
       "  }\n",
       "\n",
       "  .colab-df-quickchart {\n",
       "    background-color: var(--bg-color);\n",
       "    border: none;\n",
       "    border-radius: 50%;\n",
       "    cursor: pointer;\n",
       "    display: none;\n",
       "    fill: var(--fill-color);\n",
       "    height: 32px;\n",
       "    padding: 0;\n",
       "    width: 32px;\n",
       "  }\n",
       "\n",
       "  .colab-df-quickchart:hover {\n",
       "    background-color: var(--hover-bg-color);\n",
       "    box-shadow: 0 1px 2px rgba(60, 64, 67, 0.3), 0 1px 3px 1px rgba(60, 64, 67, 0.15);\n",
       "    fill: var(--button-hover-fill-color);\n",
       "  }\n",
       "\n",
       "  .colab-df-quickchart-complete:disabled,\n",
       "  .colab-df-quickchart-complete:disabled:hover {\n",
       "    background-color: var(--disabled-bg-color);\n",
       "    fill: var(--disabled-fill-color);\n",
       "    box-shadow: none;\n",
       "  }\n",
       "\n",
       "  .colab-df-spinner {\n",
       "    border: 2px solid var(--fill-color);\n",
       "    border-color: transparent;\n",
       "    border-bottom-color: var(--fill-color);\n",
       "    animation:\n",
       "      spin 1s steps(1) infinite;\n",
       "  }\n",
       "\n",
       "  @keyframes spin {\n",
       "    0% {\n",
       "      border-color: transparent;\n",
       "      border-bottom-color: var(--fill-color);\n",
       "      border-left-color: var(--fill-color);\n",
       "    }\n",
       "    20% {\n",
       "      border-color: transparent;\n",
       "      border-left-color: var(--fill-color);\n",
       "      border-top-color: var(--fill-color);\n",
       "    }\n",
       "    30% {\n",
       "      border-color: transparent;\n",
       "      border-left-color: var(--fill-color);\n",
       "      border-top-color: var(--fill-color);\n",
       "      border-right-color: var(--fill-color);\n",
       "    }\n",
       "    40% {\n",
       "      border-color: transparent;\n",
       "      border-right-color: var(--fill-color);\n",
       "      border-top-color: var(--fill-color);\n",
       "    }\n",
       "    60% {\n",
       "      border-color: transparent;\n",
       "      border-right-color: var(--fill-color);\n",
       "    }\n",
       "    80% {\n",
       "      border-color: transparent;\n",
       "      border-right-color: var(--fill-color);\n",
       "      border-bottom-color: var(--fill-color);\n",
       "    }\n",
       "    90% {\n",
       "      border-color: transparent;\n",
       "      border-bottom-color: var(--fill-color);\n",
       "    }\n",
       "  }\n",
       "</style>\n",
       "\n",
       "  <script>\n",
       "    async function quickchart(key) {\n",
       "      const quickchartButtonEl =\n",
       "        document.querySelector('#' + key + ' button');\n",
       "      quickchartButtonEl.disabled = true;  // To prevent multiple clicks.\n",
       "      quickchartButtonEl.classList.add('colab-df-spinner');\n",
       "      try {\n",
       "        const charts = await google.colab.kernel.invokeFunction(\n",
       "            'suggestCharts', [key], {});\n",
       "      } catch (error) {\n",
       "        console.error('Error during call to suggestCharts:', error);\n",
       "      }\n",
       "      quickchartButtonEl.classList.remove('colab-df-spinner');\n",
       "      quickchartButtonEl.classList.add('colab-df-quickchart-complete');\n",
       "    }\n",
       "    (() => {\n",
       "      let quickchartButtonEl =\n",
       "        document.querySelector('#df-0fb6896f-b221-441e-934f-0a89cedda3b7 button');\n",
       "      quickchartButtonEl.style.display =\n",
       "        google.colab.kernel.accessAllowed ? 'block' : 'none';\n",
       "    })();\n",
       "  </script>\n",
       "</div>\n",
       "    </div>\n",
       "  </div>\n"
      ],
      "text/plain": [
       "   sent_id                                               text target  \\\n",
       "0        0  В числе участников президентской борьбы есть о...     []   \n",
       "1        1  Кандидатке на пост президента 54 года, она род...     []   \n",
       "2        2  Сама женщина заявила, что встречаться с сыном ...     []   \n",
       "3        3  Они снимали нас все эти 5 минут, что длилось с...     []   \n",
       "4        4  Кроме того, по словам женщины на щеке сына Све...     []   \n",
       "\n",
       "                                                pred  \n",
       "0                                                 []  \n",
       "1                                                 []  \n",
       "2  [[сама женщина, сыном, пришлось в присутствии ...  \n",
       "3                                                 []  \n",
       "4                     [[Светлана, сына, синяк, NEG]]  "
      ]
     },
     "execution_count": 10,
     "metadata": {},
     "output_type": "execute_result"
    }
   ],
   "source": [
    "output = pd.DataFrame([(x[0], x[1], x[2], str2list(extract_tuple(x[3]))) for x in result],\n",
    "                      columns = ['sent_id', 'text', 'target', 'pred'])\n",
    "output.head()"
   ]
  },
  {
   "cell_type": "code",
   "execution_count": null,
   "id": "qvKKmD32Yyd_",
   "metadata": {
    "colab": {
     "base_uri": "https://localhost:8080/"
    },
    "id": "qvKKmD32Yyd_",
    "outputId": "97a237cb-822f-48f0-f043-e418a720544a"
   },
   "outputs": [
    {
     "name": "stderr",
     "output_type": "stream",
     "text": [
      "<ipython-input-11-c97be47da270>:1: FutureWarning: Series.__getitem__ treating keys as positions is deprecated. In a future version, integer keys will always be treated as labels (consistent with DataFrame behavior). To access a value by position, use `ser.iloc[pos]`\n",
      "  output['pred'].value_counts()[0]\n"
     ]
    },
    {
     "data": {
      "text/plain": [
       "536"
      ]
     },
     "execution_count": 11,
     "metadata": {},
     "output_type": "execute_result"
    }
   ],
   "source": [
    "output['pred'].value_counts()[0]"
   ]
  },
  {
   "cell_type": "code",
   "execution_count": null,
   "id": "9abd0f5f",
   "metadata": {
    "id": "9abd0f5f"
   },
   "outputs": [],
   "source": [
    "save(output, path, raw = False)"
   ]
  },
  {
   "cell_type": "markdown",
   "id": "nNIcgUn3RNu-",
   "metadata": {
    "id": "nNIcgUn3RNu-"
   },
   "source": [
    "### csv to jsonl ###"
   ]
  },
  {
   "cell_type": "code",
   "execution_count": null,
   "id": "20262dd3",
   "metadata": {
    "colab": {
     "base_uri": "https://localhost:8080/"
    },
    "id": "20262dd3",
    "outputId": "6a0d21c7-97ff-4fd4-ce9c-ee2335addadc"
   },
   "outputs": [
    {
     "data": {
      "text/plain": [
       "{'sent_id': 3,\n",
       " 'text': 'Они снимали нас все эти 5 минут, что длилось свидание, чтобы Влад ничего лишнего мне не сказал.',\n",
       " 'opinions': []}"
      ]
     },
     "execution_count": 14,
     "metadata": {},
     "output_type": "execute_result"
    }
   ],
   "source": [
    "final = df2structure(output)\n",
    "final[3]"
   ]
  },
  {
   "cell_type": "code",
   "execution_count": null,
   "id": "7XfvB2YxRY6M",
   "metadata": {
    "id": "7XfvB2YxRY6M"
   },
   "outputs": [],
   "source": [
    "save_jsonl(final, path)"
   ]
  }
 ],
 "metadata": {
  "colab": {
   "provenance": []
  },
  "kernelspec": {
   "display_name": "Python 3 (ipykernel)",
   "language": "python",
   "name": "python3"
  },
  "language_info": {
   "codemirror_mode": {
    "name": "ipython",
    "version": 3
   },
   "file_extension": ".py",
   "mimetype": "text/x-python",
   "name": "python",
   "nbconvert_exporter": "python",
   "pygments_lexer": "ipython3",
   "version": "3.11.5"
  }
 },
 "nbformat": 4,
 "nbformat_minor": 5
}
