{
 "cells": [
  {
   "cell_type": "markdown",
   "id": "b4d1a820",
   "metadata": {},
   "source": [
    "В этом ноутбуке кортежи мнений предсказываются с помощью модели Mistral Large 2 (mistral-large-latest).\n",
    "\n",
    "Для использования необходим Mistral API key, который можно получить бесплатно.\n",
    "\n",
    "Для формирования затравок используются предсказания других больших языковых моделей (см. ноутбуки gpt4 и grok в этом репозитории). Они берутся из .csv файлов, которых нет в открытом доступе.\n",
    "\n",
    "Без этих файлов воспроизвести происходящие в этом ноутбуке не получится."
   ]
  },
  {
   "cell_type": "markdown",
   "id": "5d150cd1",
   "metadata": {},
   "source": [
    "### Проверка ###"
   ]
  },
  {
   "cell_type": "code",
   "execution_count": 23,
   "id": "48af8e09",
   "metadata": {},
   "outputs": [],
   "source": [
    "import requests\n",
    "import ast\n",
    "import json\n",
    "import os\n",
    "import itertools\n",
    "from tqdm import tqdm\n",
    "import pandas as pd\n",
    "from collections import defaultdict\n",
    "import random\n",
    "from random import choices\n",
    "import time\n",
    "\n",
    "api_key = \"YOUR_API_KEY\"\n",
    "model = \"mistral-large-2411\"\n",
    "url = \"https://api.mistral.ai/v1/chat/completions\"\n",
    "headers = {\n",
    "    \"Content-Type\": \"application/json\",\n",
    "    \"Authorization\": f\"Bearer {api_key}\"\n",
    "}\n",
    "SEED = 42\n",
    "\n",
    "random.seed(SEED)"
   ]
  },
  {
   "cell_type": "code",
   "execution_count": 24,
   "id": "f2183e88",
   "metadata": {},
   "outputs": [
    {
     "data": {
      "text/plain": [
       "{'Date': 'Sun, 24 Nov 2024 23:25:07 GMT', 'Content-Type': 'application/json; charset=utf-8', 'Content-Length': '96', 'Connection': 'keep-alive', 'www-authenticate': 'Key', 'access-control-allow-origin': '*', 'x-kong-response-latency': '0', 'x-kong-request-id': '8cffbf14767253180480730780fa685f', 'CF-Cache-Status': 'DYNAMIC', 'Server': 'cloudflare', 'CF-RAY': '8e7d280bc9e5d68f-IAD', 'alt-svc': 'h3=\":443\"; ma=86400'}"
      ]
     },
     "execution_count": 24,
     "metadata": {},
     "output_type": "execute_result"
    }
   ],
   "source": [
    "response = requests.get(url)\n",
    "response.headers"
   ]
  },
  {
   "cell_type": "code",
   "execution_count": 25,
   "id": "cb7750f2",
   "metadata": {},
   "outputs": [
    {
     "name": "stdout",
     "output_type": "stream",
     "text": [
      "Вопрос: тебя создали французы?\n",
      "Ответ: Нет, меня создала Mistral AI, передовая французская компания в области искусственного интеллекта.\n"
     ]
    }
   ],
   "source": [
    "class MistralModel():\n",
    "    def __init__(self, model, temp = 0.2, top_p = 0.9, max_tokens = 256, seed = 42):\n",
    "        self.model = model\n",
    "        self.temp = temp\n",
    "        self.top_p = top_p\n",
    "        self.max_tokens = max_tokens\n",
    "        self.seed = 42\n",
    "    def prompt(self, text):\n",
    "        prompt = {'model': self.model,\n",
    "                  'random_seed': self.seed,\n",
    "              'temperature': self.temp,\n",
    "              'top_p': self.top_p,\n",
    "              'max_tokens': self.max_tokens,\n",
    "              'messages': [{'role':'user', 'content': text}]\n",
    "             }\n",
    "        return prompt\n",
    "    \n",
    "    def structured_prompt(self, instruction, text):\n",
    "        prompt = {'model': self.model,\n",
    "                  'random_seed': self.seed,\n",
    "              'temperature': self.temp,\n",
    "              'top_p': self.top_p,\n",
    "              'max_tokens': self.max_tokens,\n",
    "              'messages': [{'role':'system', 'content': instruction},\n",
    "                          {'role':'user', 'content': text}]\n",
    "             }\n",
    "        return prompt\n",
    "\n",
    "mistral = MistralModel(model, max_tokens = 512)\n",
    "\n",
    "instruction = \"ответь на вопрос\"\n",
    "text = \"тебя создали французы?\"\n",
    "response = requests.post(url, headers=headers, json=mistral.prompt(text))\n",
    "print(f'Вопрос: {text}')\n",
    "print(f\"Ответ: {response.json()['choices'][0]['message']['content']}\")"
   ]
  },
  {
   "cell_type": "markdown",
   "id": "fc58e599",
   "metadata": {},
   "source": [
    "### Подготовка данных ###"
   ]
  },
  {
   "cell_type": "code",
   "execution_count": 6,
   "id": "dfcf5d83",
   "metadata": {},
   "outputs": [],
   "source": [
    "import requests, zipfile, io\n",
    "\n",
    "# download source files\n",
    "url = 'https://raw.githubusercontent.com/rossyaykin/RuOpinionNE/refs/heads/main/src/src.zip'\n",
    "r = requests.get(url)\n",
    "z = zipfile.ZipFile(io.BytesIO(r.content))\n",
    "z.extractall('')"
   ]
  },
  {
   "cell_type": "code",
   "execution_count": 7,
   "id": "0dad4908",
   "metadata": {},
   "outputs": [],
   "source": [
    "from src.utils import load_jsonl, save_jsonl, str2list, dict2tuple, extract_tuple, df2structure"
   ]
  },
  {
   "cell_type": "code",
   "execution_count": 8,
   "id": "67d358ff",
   "metadata": {},
   "outputs": [
    {
     "name": "stdout",
     "output_type": "stream",
     "text": [
      "2556 1316\n"
     ]
    }
   ],
   "source": [
    "train_path = \"full.jsonl\"\n",
    "test_path = \"validation.jsonl\"\n",
    "\n",
    "url = 'https://raw.githubusercontent.com/rossyaykin/RuOpinionNE/refs/heads/main/data/full.jsonl'\n",
    "train = load_jsonl(url, train_path)\n",
    "url = 'https://raw.githubusercontent.com/rossyaykin/RuOpinionNE/refs/heads/main/data/validation.jsonl'\n",
    "test = load_jsonl(url, test_path)\n",
    "\n",
    "print(len(train), len(test))"
   ]
  },
  {
   "cell_type": "code",
   "execution_count": 9,
   "id": "6f5ab5aa",
   "metadata": {},
   "outputs": [],
   "source": [
    "# mistral = pd.read_csv('/content/gdrive/My Drive/Mistral_bl_15shot_0.1temp.csv')\n",
    "# grok = pd.read_csv('/content/gdrive/My Drive/Grok_bl_15shot_0.1temp.csv')\n",
    "# claude = pd.read_csv('/content/gdrive/My Drive/Claude_bl_15shot_0.1temp.csv')\n",
    "grok = pd.read_csv('results/Grok/Grok_bl_15shot_0.1temp.csv')\n",
    "openai = pd.read_csv('results/openai/openai_bl_15shot_0.1temp.csv')\n",
    "claude = pd.read_csv('results/Claude/Claude_bl_15shot_0.1temp.csv')\n",
    "\n",
    "aug = [grok, openai, claude]"
   ]
  },
  {
   "cell_type": "code",
   "execution_count": 10,
   "id": "b9d6669d",
   "metadata": {},
   "outputs": [
    {
     "data": {
      "text/html": [
       "<div>\n",
       "<style scoped>\n",
       "    .dataframe tbody tr th:only-of-type {\n",
       "        vertical-align: middle;\n",
       "    }\n",
       "\n",
       "    .dataframe tbody tr th {\n",
       "        vertical-align: top;\n",
       "    }\n",
       "\n",
       "    .dataframe thead th {\n",
       "        text-align: right;\n",
       "    }\n",
       "</style>\n",
       "<table border=\"1\" class=\"dataframe\">\n",
       "  <thead>\n",
       "    <tr style=\"text-align: right;\">\n",
       "      <th></th>\n",
       "      <th>sent_id</th>\n",
       "      <th>text</th>\n",
       "      <th>target</th>\n",
       "      <th>pred</th>\n",
       "    </tr>\n",
       "  </thead>\n",
       "  <tbody>\n",
       "    <tr>\n",
       "      <th>0</th>\n",
       "      <td>0</td>\n",
       "      <td>В числе участников президентской борьбы есть о...</td>\n",
       "      <td>[]</td>\n",
       "      <td>[]</td>\n",
       "    </tr>\n",
       "    <tr>\n",
       "      <th>1</th>\n",
       "      <td>1</td>\n",
       "      <td>Кандидатке на пост президента 54 года, она род...</td>\n",
       "      <td>[]</td>\n",
       "      <td>[]</td>\n",
       "    </tr>\n",
       "    <tr>\n",
       "      <th>2</th>\n",
       "      <td>2</td>\n",
       "      <td>Сама женщина заявила, что встречаться с сыном ...</td>\n",
       "      <td>[]</td>\n",
       "      <td>[]</td>\n",
       "    </tr>\n",
       "    <tr>\n",
       "      <th>3</th>\n",
       "      <td>3</td>\n",
       "      <td>Они снимали нас все эти 5 минут, что длилось с...</td>\n",
       "      <td>[]</td>\n",
       "      <td>[['AUTHOR', 'они', 'снимали нас все эти 5 мину...</td>\n",
       "    </tr>\n",
       "    <tr>\n",
       "      <th>4</th>\n",
       "      <td>4</td>\n",
       "      <td>Кроме того, по словам женщины на щеке сына Све...</td>\n",
       "      <td>[]</td>\n",
       "      <td>[['Светлана', 'сына', 'синяк', 'NEG']]</td>\n",
       "    </tr>\n",
       "  </tbody>\n",
       "</table>\n",
       "</div>"
      ],
      "text/plain": [
       "   sent_id                                               text target  \\\n",
       "0        0  В числе участников президентской борьбы есть о...     []   \n",
       "1        1  Кандидатке на пост президента 54 года, она род...     []   \n",
       "2        2  Сама женщина заявила, что встречаться с сыном ...     []   \n",
       "3        3  Они снимали нас все эти 5 минут, что длилось с...     []   \n",
       "4        4  Кроме того, по словам женщины на щеке сына Све...     []   \n",
       "\n",
       "                                                pred  \n",
       "0                                                 []  \n",
       "1                                                 []  \n",
       "2                                                 []  \n",
       "3  [['AUTHOR', 'они', 'снимали нас все эти 5 мину...  \n",
       "4             [['Светлана', 'сына', 'синяк', 'NEG']]  "
      ]
     },
     "execution_count": 10,
     "metadata": {},
     "output_type": "execute_result"
    }
   ],
   "source": [
    "claude.head()"
   ]
  },
  {
   "cell_type": "code",
   "execution_count": 12,
   "id": "67c1c20e",
   "metadata": {},
   "outputs": [
    {
     "data": {
      "text/plain": [
       "\"[['AUTHOR', 'они', 'снимали нас все эти 5 минут, что длилось свидание, чтобы Влад ничего лишнего мне не сказал', 'NEG']]\""
      ]
     },
     "execution_count": 12,
     "metadata": {},
     "output_type": "execute_result"
    }
   ],
   "source": [
    "claude.loc[3]['pred']"
   ]
  },
  {
   "cell_type": "markdown",
   "id": "bea88f29",
   "metadata": {},
   "source": [
    "### Определения ###"
   ]
  },
  {
   "cell_type": "code",
   "execution_count": 15,
   "id": "5d7422b3",
   "metadata": {},
   "outputs": [],
   "source": [
    "def aug_prompt(examples, variants, text):\n",
    "    shots = '\\n'.join([f'Текст: {pair[0]}\\nОтвет: {pair[1]}' for pair in examples])\n",
    "    variants = '\\n'.join([str(x) for x in variants])\n",
    "    return f\"\"\"Ты эксперт в оценке тональности.\n",
    "Тебе нужно найти все негативные и позитивные отношения между сущностями в тексте и вывести их в следующем формате:\n",
    "[источник отношения, объект отношения, выражение в тексте содержащее оценку, оценка (POS/NEG)]\n",
    "Если источником отношения является автор, то пиши:\n",
    "['AUTHOR', объект отношения, выражение в тексте содержащее оценку, оценка (POS/NEG)]\n",
    "Если выраженного источника нет, то пиши:\n",
    "['NULL', объект отношения, выражение в тексте содержащее оценку, оценка (POS/NEG)]\n",
    "Допустимо вернуть пустой ответ:\n",
    "[]\n",
    "Не нужно давать пояснений к ответу.\n",
    "Примеры\n",
    "{shots}\n",
    "Текст, который нужно проанализировать:\n",
    "{text}\n",
    "Ответы экспертов к этому тексту:\n",
    "{variants}\n",
    "Ты можешь выбрать из этих ответов или ответить по-своему.\n",
    "Твой ответ:\"\"\"\n",
    "\n",
    "class Runner():\n",
    "    def __init__(self, model, url, headers, train, test, aug, n_shots = 5, sleeptime = 2):\n",
    "        self.model = model\n",
    "        self.url = url\n",
    "        self.headers = headers\n",
    "        self.train = train\n",
    "        self.test = test\n",
    "        self.n_shots = n_shots\n",
    "        self.sleeptime = sleeptime\n",
    "        self.aug = aug\n",
    "    \n",
    "    def run(self):\n",
    "        results = list()\n",
    "        for i in tqdm(range(len(self.test))):\n",
    "            entry = self.test[i]\n",
    "            time.sleep(self.sleeptime)\n",
    "            examples = [dict2tuple(x) for x in choices(self.train, k = n_shots)]\n",
    "            variants = [x.loc[i]['pred'] for x in self.aug]\n",
    "            prompt = aug_prompt(examples, variants, entry['text'])\n",
    "            response = requests.post(self.url,\n",
    "                                     headers=self.headers,\n",
    "                                     json=self.model.prompt(prompt))\n",
    "            result = []\n",
    "            if response.status_code == 200:\n",
    "                response = response.json()['choices'][0]['message']['content']\n",
    "                try:\n",
    "                    result = ast.literal_eval(response)\n",
    "                except (SyntaxError, ValueError):\n",
    "                    print(f'bad response, iteration:{len(results)}')\n",
    "            else:\n",
    "                print(f'bad response, iteration:{len(results)}') \n",
    "            results.append((entry['sent_id'],\n",
    "                            entry['text'],\n",
    "                            dict2tuple(entry)[1], # gold opinions\n",
    "                            result)) # pred opinions\n",
    "        return results\n",
    "\n",
    "def get_path(temp, n_shots):\n",
    "    path = f'./results/Mistral-aug/Mistral_bl_{n_shots}shot_{temp}temp'\n",
    "    # returns full path but without \".csv\"\n",
    "    return path\n",
    "\n",
    "def save(dataframe, path, raw = True):\n",
    "    outdir, outname = '/'.join(path.split('/')[:-1]), path.split('/')[-1]\n",
    "    if not os.path.exists(outdir):\n",
    "        os.mkdir(outdir)\n",
    "    if raw:\n",
    "        dataframe.to_csv(f'{path}_raw.csv', index = False)\n",
    "    else:\n",
    "        dataframe.to_csv(f'{path}.csv', index = False)"
   ]
  },
  {
   "cell_type": "markdown",
   "id": "1a0588cb",
   "metadata": {},
   "source": [
    "### Тест на одном примере ###"
   ]
  },
  {
   "cell_type": "code",
   "execution_count": 69,
   "id": "a7737b34",
   "metadata": {},
   "outputs": [
    {
     "name": "stdout",
     "output_type": "stream",
     "text": [
      "--Промпт--:\n",
      "\n",
      "Ты эксперт в оценке тональности.\n",
      "Тебе нужно найти все негативные и позитивные отношения между сущностями в тексте и вывести их в следующем формате:\n",
      "[источник отношения, объект отношения, выражение в тексте содержащее оценку, оценка (POS/NEG)]\n",
      "Если источником отношения является автор, то пиши:\n",
      "['AUTHOR', объект отношения, выражение в тексте содержащее оценку, оценка (POS/NEG)]\n",
      "Если выраженного источника нет, то пиши:\n",
      "['NULL', объект отношения, выражение в тексте содержащее оценку, оценка (POS/NEG)]\n",
      "Допустимо вернуть пустой ответ:\n",
      "[]\n",
      "Не нужно давать пояснений к ответу.\n",
      "Примеры\n",
      "\n",
      "Текст, который нужно проанализировать:\n",
      "Все полученные средства планируется выплатить акционерам Yahoo!\n",
      "Ответы экспертов к этому тексту:\n",
      "[]\n",
      "[]\n",
      "[['NULL', 'акционерам Yahoo!', 'планируется выплатить', 'POS']]\n",
      "Ты можешь выбрать из этих ответов или ответить по-своему.\n",
      "Твой ответ:\n"
     ]
    }
   ],
   "source": [
    "n_shots = 0\n",
    "examples = [dict2tuple(x) for x in train[:n_shots]]\n",
    "text, target = dict2tuple(test[14])\n",
    "variants = [x.loc[14]['pred'] for x in aug]\n",
    "\n",
    "sample_prompt = aug_prompt(examples, variants, text)\n",
    "print(f'--Промпт--:\\n\\n{sample_prompt}')"
   ]
  },
  {
   "cell_type": "code",
   "execution_count": 27,
   "id": "b38f6796",
   "metadata": {},
   "outputs": [
    {
     "name": "stdout",
     "output_type": "stream",
     "text": [
      "--Текст--:\n",
      "Напомним, на казахстанском пограничном временном посту \"Арканкерген\" были обнаружены обгоревшие тела 14 пограничников и 1 егеря.\n",
      "--Таргет--:\n",
      "[]\n",
      "--Предикт--:\n",
      "[['NULL', 'пограничников и егеря', 'обгоревшие тела', 'NEG']]\n"
     ]
    }
   ],
   "source": [
    "response = requests.post(url, headers=headers, json=mistral.prompt(sample_prompt))\n",
    "response = response.json()['choices'][0]['message']['content']\n",
    "result = ast.literal_eval(response)\n",
    "\n",
    "print(f'--Текст--:\\n{text}')\n",
    "print(f'--Таргет--:\\n{target}')\n",
    "print(f'--Предикт--:\\n{extract_tuple(result)}')"
   ]
  },
  {
   "cell_type": "markdown",
   "id": "01598c65",
   "metadata": {},
   "source": [
    "### Инференс ###"
   ]
  },
  {
   "cell_type": "code",
   "execution_count": 32,
   "id": "b78b8243",
   "metadata": {},
   "outputs": [
    {
     "name": "stderr",
     "output_type": "stream",
     "text": [
      " 12%|█▏        | 159/1316 [09:55<1:34:02,  4.88s/it]"
     ]
    },
    {
     "name": "stdout",
     "output_type": "stream",
     "text": [
      "bad response, iteration:158\n"
     ]
    },
    {
     "name": "stderr",
     "output_type": "stream",
     "text": [
      " 13%|█▎        | 165/1316 [10:17<1:12:13,  3.76s/it]"
     ]
    },
    {
     "name": "stdout",
     "output_type": "stream",
     "text": [
      "bad response, iteration:164\n"
     ]
    },
    {
     "name": "stderr",
     "output_type": "stream",
     "text": [
      " 15%|█▍        | 191/1316 [12:37<1:29:32,  4.78s/it]"
     ]
    },
    {
     "name": "stdout",
     "output_type": "stream",
     "text": [
      "bad response, iteration:190\n"
     ]
    },
    {
     "name": "stderr",
     "output_type": "stream",
     "text": [
      " 15%|█▍        | 193/1316 [12:45<1:21:39,  4.36s/it]"
     ]
    },
    {
     "name": "stdout",
     "output_type": "stream",
     "text": [
      "bad response, iteration:192\n"
     ]
    },
    {
     "name": "stderr",
     "output_type": "stream",
     "text": [
      " 15%|█▌        | 199/1316 [13:13<1:33:42,  5.03s/it]"
     ]
    },
    {
     "name": "stdout",
     "output_type": "stream",
     "text": [
      "bad response, iteration:198\n"
     ]
    },
    {
     "name": "stderr",
     "output_type": "stream",
     "text": [
      " 17%|█▋        | 225/1316 [15:13<1:32:33,  5.09s/it]"
     ]
    },
    {
     "name": "stdout",
     "output_type": "stream",
     "text": [
      "bad response, iteration:224\n"
     ]
    },
    {
     "name": "stderr",
     "output_type": "stream",
     "text": [
      " 28%|██▊       | 363/1316 [25:38<1:09:34,  4.38s/it]"
     ]
    },
    {
     "name": "stdout",
     "output_type": "stream",
     "text": [
      "bad response, iteration:362\n"
     ]
    },
    {
     "name": "stderr",
     "output_type": "stream",
     "text": [
      " 38%|███▊      | 503/1316 [35:54<1:08:05,  5.03s/it]"
     ]
    },
    {
     "name": "stdout",
     "output_type": "stream",
     "text": [
      "bad response, iteration:502\n"
     ]
    },
    {
     "name": "stderr",
     "output_type": "stream",
     "text": [
      " 46%|████▌     | 605/1316 [43:15<49:36,  4.19s/it]  "
     ]
    },
    {
     "name": "stdout",
     "output_type": "stream",
     "text": [
      "bad response, iteration:604\n"
     ]
    },
    {
     "name": "stderr",
     "output_type": "stream",
     "text": [
      " 54%|█████▍    | 717/1316 [51:09<36:44,  3.68s/it]  "
     ]
    },
    {
     "name": "stdout",
     "output_type": "stream",
     "text": [
      "bad response, iteration:716\n"
     ]
    },
    {
     "name": "stderr",
     "output_type": "stream",
     "text": [
      " 57%|█████▋    | 747/1316 [53:13<43:17,  4.56s/it]"
     ]
    },
    {
     "name": "stdout",
     "output_type": "stream",
     "text": [
      "bad response, iteration:746\n"
     ]
    },
    {
     "name": "stderr",
     "output_type": "stream",
     "text": [
      " 58%|█████▊    | 757/1316 [53:55<36:54,  3.96s/it]"
     ]
    },
    {
     "name": "stdout",
     "output_type": "stream",
     "text": [
      "bad response, iteration:756\n"
     ]
    },
    {
     "name": "stderr",
     "output_type": "stream",
     "text": [
      " 67%|██████▋   | 881/1316 [1:02:28<31:24,  4.33s/it]"
     ]
    },
    {
     "name": "stdout",
     "output_type": "stream",
     "text": [
      "bad response, iteration:880\n"
     ]
    },
    {
     "name": "stderr",
     "output_type": "stream",
     "text": [
      " 69%|██████▊   | 904/1316 [1:04:31<35:22,  5.15s/it]"
     ]
    },
    {
     "name": "stdout",
     "output_type": "stream",
     "text": [
      "bad response, iteration:903\n"
     ]
    },
    {
     "name": "stderr",
     "output_type": "stream",
     "text": [
      " 77%|███████▋  | 1017/1316 [1:12:18<18:28,  3.71s/it]"
     ]
    },
    {
     "name": "stdout",
     "output_type": "stream",
     "text": [
      "bad response, iteration:1016\n"
     ]
    },
    {
     "name": "stderr",
     "output_type": "stream",
     "text": [
      " 84%|████████▍ | 1108/1316 [1:18:31<16:28,  4.75s/it]"
     ]
    },
    {
     "name": "stdout",
     "output_type": "stream",
     "text": [
      "bad response, iteration:1107\n"
     ]
    },
    {
     "name": "stderr",
     "output_type": "stream",
     "text": [
      "100%|██████████| 1316/1316 [1:32:35<00:00,  4.22s/it]"
     ]
    },
    {
     "name": "stdout",
     "output_type": "stream",
     "text": [
      "CPU times: total: 7min 16s\n",
      "Wall time: 1h 32min 35s\n"
     ]
    },
    {
     "name": "stderr",
     "output_type": "stream",
     "text": [
      "\n"
     ]
    }
   ],
   "source": [
    "%%time\n",
    "params = {'temp': 0.1,\n",
    "          'seed': SEED,\n",
    "          'top_p': 0.9,\n",
    "          'max_tokens': 512}\n",
    "mistral = MistralModel(model, **params)\n",
    "n_shots = 12\n",
    "runner = Runner(mistral, url, headers, train, test, aug, n_shots)\n",
    "\n",
    "path = get_path(mistral.temp, n_shots)\n",
    "result = runner.run()"
   ]
  },
  {
   "cell_type": "code",
   "execution_count": 34,
   "id": "2eadf6a6",
   "metadata": {},
   "outputs": [
    {
     "name": "stdout",
     "output_type": "stream",
     "text": [
      "./results/Mistral-aug/Mistral_bl_12shot_0.1temp\n",
      "(4, 'Кроме того, по словам женщины на щеке сына Светлана увидела синяк.', [], [['Светлана', 'сына', 'синяк', 'NEG']])\n"
     ]
    }
   ],
   "source": [
    "print(path)\n",
    "print(result[4])"
   ]
  },
  {
   "cell_type": "markdown",
   "id": "3ad6c329",
   "metadata": {},
   "source": [
    "### Результаты ###"
   ]
  },
  {
   "cell_type": "code",
   "execution_count": 35,
   "id": "279ef007",
   "metadata": {},
   "outputs": [
    {
     "data": {
      "text/html": [
       "<div>\n",
       "<style scoped>\n",
       "    .dataframe tbody tr th:only-of-type {\n",
       "        vertical-align: middle;\n",
       "    }\n",
       "\n",
       "    .dataframe tbody tr th {\n",
       "        vertical-align: top;\n",
       "    }\n",
       "\n",
       "    .dataframe thead th {\n",
       "        text-align: right;\n",
       "    }\n",
       "</style>\n",
       "<table border=\"1\" class=\"dataframe\">\n",
       "  <thead>\n",
       "    <tr style=\"text-align: right;\">\n",
       "      <th></th>\n",
       "      <th>sent_id</th>\n",
       "      <th>text</th>\n",
       "      <th>target</th>\n",
       "      <th>pred</th>\n",
       "    </tr>\n",
       "  </thead>\n",
       "  <tbody>\n",
       "    <tr>\n",
       "      <th>0</th>\n",
       "      <td>0</td>\n",
       "      <td>В числе участников президентской борьбы есть о...</td>\n",
       "      <td>[]</td>\n",
       "      <td>[]</td>\n",
       "    </tr>\n",
       "    <tr>\n",
       "      <th>1</th>\n",
       "      <td>1</td>\n",
       "      <td>Кандидатке на пост президента 54 года, она род...</td>\n",
       "      <td>[]</td>\n",
       "      <td>[]</td>\n",
       "    </tr>\n",
       "    <tr>\n",
       "      <th>2</th>\n",
       "      <td>2</td>\n",
       "      <td>Сама женщина заявила, что встречаться с сыном ...</td>\n",
       "      <td>[]</td>\n",
       "      <td>[]</td>\n",
       "    </tr>\n",
       "    <tr>\n",
       "      <th>3</th>\n",
       "      <td>3</td>\n",
       "      <td>Они снимали нас все эти 5 минут, что длилось с...</td>\n",
       "      <td>[]</td>\n",
       "      <td>[[AUTHOR, они, снимали нас все эти 5 минут, чт...</td>\n",
       "    </tr>\n",
       "    <tr>\n",
       "      <th>4</th>\n",
       "      <td>4</td>\n",
       "      <td>Кроме того, по словам женщины на щеке сына Све...</td>\n",
       "      <td>[]</td>\n",
       "      <td>[[Светлана, сына, синяк, NEG]]</td>\n",
       "    </tr>\n",
       "  </tbody>\n",
       "</table>\n",
       "</div>"
      ],
      "text/plain": [
       "   sent_id                                               text target  \\\n",
       "0        0  В числе участников президентской борьбы есть о...     []   \n",
       "1        1  Кандидатке на пост президента 54 года, она род...     []   \n",
       "2        2  Сама женщина заявила, что встречаться с сыном ...     []   \n",
       "3        3  Они снимали нас все эти 5 минут, что длилось с...     []   \n",
       "4        4  Кроме того, по словам женщины на щеке сына Све...     []   \n",
       "\n",
       "                                                pred  \n",
       "0                                                 []  \n",
       "1                                                 []  \n",
       "2                                                 []  \n",
       "3  [[AUTHOR, они, снимали нас все эти 5 минут, чт...  \n",
       "4                     [[Светлана, сына, синяк, NEG]]  "
      ]
     },
     "execution_count": 35,
     "metadata": {},
     "output_type": "execute_result"
    }
   ],
   "source": [
    "output = pd.DataFrame(result, columns = ['sent_id', 'text', 'target', 'pred'])\n",
    "output.head()"
   ]
  },
  {
   "cell_type": "code",
   "execution_count": 36,
   "id": "f87db0f3",
   "metadata": {},
   "outputs": [
    {
     "name": "stdout",
     "output_type": "stream",
     "text": [
      "./results/Mistral-aug/Mistral_bl_12shot_0.1temp\n"
     ]
    }
   ],
   "source": [
    "print(path)\n",
    "save(output, path)"
   ]
  },
  {
   "cell_type": "code",
   "execution_count": 37,
   "id": "e60e6dc9",
   "metadata": {},
   "outputs": [
    {
     "data": {
      "text/html": [
       "<div>\n",
       "<style scoped>\n",
       "    .dataframe tbody tr th:only-of-type {\n",
       "        vertical-align: middle;\n",
       "    }\n",
       "\n",
       "    .dataframe tbody tr th {\n",
       "        vertical-align: top;\n",
       "    }\n",
       "\n",
       "    .dataframe thead th {\n",
       "        text-align: right;\n",
       "    }\n",
       "</style>\n",
       "<table border=\"1\" class=\"dataframe\">\n",
       "  <thead>\n",
       "    <tr style=\"text-align: right;\">\n",
       "      <th></th>\n",
       "      <th>sent_id</th>\n",
       "      <th>text</th>\n",
       "      <th>target</th>\n",
       "      <th>pred</th>\n",
       "    </tr>\n",
       "  </thead>\n",
       "  <tbody>\n",
       "    <tr>\n",
       "      <th>0</th>\n",
       "      <td>0</td>\n",
       "      <td>В числе участников президентской борьбы есть о...</td>\n",
       "      <td>[]</td>\n",
       "      <td>[]</td>\n",
       "    </tr>\n",
       "    <tr>\n",
       "      <th>1</th>\n",
       "      <td>1</td>\n",
       "      <td>Кандидатке на пост президента 54 года, она род...</td>\n",
       "      <td>[]</td>\n",
       "      <td>[]</td>\n",
       "    </tr>\n",
       "    <tr>\n",
       "      <th>2</th>\n",
       "      <td>2</td>\n",
       "      <td>Сама женщина заявила, что встречаться с сыном ...</td>\n",
       "      <td>[]</td>\n",
       "      <td>[]</td>\n",
       "    </tr>\n",
       "    <tr>\n",
       "      <th>3</th>\n",
       "      <td>3</td>\n",
       "      <td>Они снимали нас все эти 5 минут, что длилось с...</td>\n",
       "      <td>[]</td>\n",
       "      <td>[[AUTHOR, они, снимали нас все эти 5 минут, чт...</td>\n",
       "    </tr>\n",
       "    <tr>\n",
       "      <th>4</th>\n",
       "      <td>4</td>\n",
       "      <td>Кроме того, по словам женщины на щеке сына Све...</td>\n",
       "      <td>[]</td>\n",
       "      <td>[[Светлана, сына, синяк, NEG]]</td>\n",
       "    </tr>\n",
       "  </tbody>\n",
       "</table>\n",
       "</div>"
      ],
      "text/plain": [
       "   sent_id                                               text target  \\\n",
       "0        0  В числе участников президентской борьбы есть о...     []   \n",
       "1        1  Кандидатке на пост президента 54 года, она род...     []   \n",
       "2        2  Сама женщина заявила, что встречаться с сыном ...     []   \n",
       "3        3  Они снимали нас все эти 5 минут, что длилось с...     []   \n",
       "4        4  Кроме того, по словам женщины на щеке сына Све...     []   \n",
       "\n",
       "                                                pred  \n",
       "0                                                 []  \n",
       "1                                                 []  \n",
       "2                                                 []  \n",
       "3  [[AUTHOR, они, снимали нас все эти 5 минут, чт...  \n",
       "4                     [[Светлана, сына, синяк, NEG]]  "
      ]
     },
     "execution_count": 37,
     "metadata": {},
     "output_type": "execute_result"
    }
   ],
   "source": [
    "output = pd.DataFrame([(x[0], x[1], x[2], str2list(extract_tuple(x[3]))) for x in result],\n",
    "                      columns = ['sent_id', 'text', 'target', 'pred'])\n",
    "output.head()"
   ]
  },
  {
   "cell_type": "code",
   "execution_count": 38,
   "id": "a1be5bbc",
   "metadata": {},
   "outputs": [],
   "source": [
    "save(output, path, raw = False)"
   ]
  },
  {
   "cell_type": "code",
   "execution_count": 13,
   "id": "e1ff8f95",
   "metadata": {},
   "outputs": [
    {
     "name": "stdout",
     "output_type": "stream",
     "text": [
      "Count: 176\n",
      "Accuracy: 0.344\n",
      "NaNs: 0\n"
     ]
    }
   ],
   "source": [
    "# short_report(output)"
   ]
  },
  {
   "cell_type": "markdown",
   "id": "8bd1bc6d",
   "metadata": {},
   "source": [
    "### csv to jsonl ###"
   ]
  },
  {
   "cell_type": "code",
   "execution_count": 39,
   "id": "15b0595e",
   "metadata": {},
   "outputs": [
    {
     "data": {
      "text/plain": [
       "{'sent_id': 3,\n",
       " 'text': 'Они снимали нас все эти 5 минут, что длилось свидание, чтобы Влад ничего лишнего мне не сказал.',\n",
       " 'opinions': [{'Source': [['AUTHOR'], ['NULL']],\n",
       "   'Target': [['они'], ['0:0']],\n",
       "   'Polar_expression': [['снимали нас все эти 5 минут, что длилось свидание, чтобы Влад ничего лишнего мне не сказал'],\n",
       "    ['4:94']],\n",
       "   'Polarity': 'NEG'}]}"
      ]
     },
     "execution_count": 39,
     "metadata": {},
     "output_type": "execute_result"
    }
   ],
   "source": [
    "final = df2structure(output)\n",
    "final[3]"
   ]
  },
  {
   "cell_type": "code",
   "execution_count": 44,
   "id": "e0a8b6e3",
   "metadata": {},
   "outputs": [],
   "source": [
    "def to_jsonl(data, target):\n",
    "    with open(target, \"w\", encoding='utf8') as f:\n",
    "        for item in data:\n",
    "            f.write(f\"{json.dumps(item, ensure_ascii=False)}\\n\")\n",
    "\n",
    "def save_jsonl(dataframe, path):\n",
    "    path+='.jsonl'\n",
    "    return to_jsonl(dataframe, path)\n",
    "\n",
    "save_jsonl(final, path)"
   ]
  }
 ],
 "metadata": {
  "kernelspec": {
   "display_name": "Python 3 (ipykernel)",
   "language": "python",
   "name": "python3"
  },
  "language_info": {
   "codemirror_mode": {
    "name": "ipython",
    "version": 3
   },
   "file_extension": ".py",
   "mimetype": "text/x-python",
   "name": "python",
   "nbconvert_exporter": "python",
   "pygments_lexer": "ipython3",
   "version": "3.11.5"
  }
 },
 "nbformat": 4,
 "nbformat_minor": 5
}
